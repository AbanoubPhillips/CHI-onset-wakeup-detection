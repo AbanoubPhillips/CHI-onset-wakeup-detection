{
 "cells": [
  {
   "cell_type": "code",
   "execution_count": 1,
   "id": "6dfea9a9",
   "metadata": {
    "_cell_guid": "b1076dfc-b9ad-4769-8c92-a6c4dae69d19",
    "_uuid": "8f2839f25d086af736a60e9eeb907d3b93b6e0e5",
    "execution": {
     "iopub.execute_input": "2024-08-03T12:10:32.796549Z",
     "iopub.status.busy": "2024-08-03T12:10:32.796071Z",
     "iopub.status.idle": "2024-08-03T12:10:32.802583Z",
     "shell.execute_reply": "2024-08-03T12:10:32.801550Z"
    },
    "papermill": {
     "duration": 0.019871,
     "end_time": "2024-08-03T12:10:32.804949",
     "exception": false,
     "start_time": "2024-08-03T12:10:32.785078",
     "status": "completed"
    },
    "tags": []
   },
   "outputs": [],
   "source": [
    "# # This Python 3 environment comes with many helpful analytics libraries installed\n",
    "# # It is defined by the kaggle/python Docker image: https://github.com/kaggle/docker-python\n",
    "# # For example, here's several helpful packages to load\n",
    "\n",
    "# import numpy as np # linear algebra\n",
    "# import pandas as pd # data processing, CSV file I/O (e.g. pd.read_csv)\n",
    "\n",
    "# # Input data files are available in the read-only \"../input/\" directory\n",
    "# # For example, running this (by clicking run or pressing Shift+Enter) will list all files under the input directory\n",
    "\n",
    "# import os\n",
    "# for dirname, _, filenames in os.walk('/kaggle/input'):\n",
    "#     for filename in filenames:\n",
    "#         print(os.path.join(dirname, filename))\n",
    "\n",
    "# # You can write up to 20GB to the current directory (/kaggle/working/) that gets preserved as output when you create a version using \"Save & Run All\" \n",
    "# # You can also write temporary files to /kaggle/temp/, but they won't be saved outside of the current session"
   ]
  },
  {
   "cell_type": "code",
   "execution_count": 2,
   "id": "6245566c",
   "metadata": {
    "execution": {
     "iopub.execute_input": "2024-08-03T12:10:32.825081Z",
     "iopub.status.busy": "2024-08-03T12:10:32.824218Z",
     "iopub.status.idle": "2024-08-03T12:10:35.747368Z",
     "shell.execute_reply": "2024-08-03T12:10:35.746134Z"
    },
    "papermill": {
     "duration": 2.936733,
     "end_time": "2024-08-03T12:10:35.750721",
     "exception": false,
     "start_time": "2024-08-03T12:10:32.813988",
     "status": "completed"
    },
    "tags": []
   },
   "outputs": [],
   "source": [
    "import matplotlib.pyplot as plt\n",
    "import seaborn as sns\n",
    "import polars as pl\n",
    "import numpy as np\n",
    "import pandas as pd\n",
    "from datetime import datetime\n",
    "\n",
    "from pandas.api.types import is_datetime64_any_dtype, is_integer_dtype, is_float_dtype\n",
    "import gc\n",
    "import warnings\n",
    "warnings.filterwarnings(\"ignore\")"
   ]
  },
  {
   "cell_type": "code",
   "execution_count": 3,
   "id": "0b59775a",
   "metadata": {
    "execution": {
     "iopub.execute_input": "2024-08-03T12:10:35.770735Z",
     "iopub.status.busy": "2024-08-03T12:10:35.770108Z",
     "iopub.status.idle": "2024-08-03T12:10:50.907347Z",
     "shell.execute_reply": "2024-08-03T12:10:50.905974Z"
    },
    "papermill": {
     "duration": 15.150723,
     "end_time": "2024-08-03T12:10:50.910481",
     "exception": false,
     "start_time": "2024-08-03T12:10:35.759758",
     "status": "completed"
    },
    "tags": []
   },
   "outputs": [],
   "source": [
    "dt_transforms = [\n",
    "    pl.col('timestamp').str.to_datetime(),\n",
    "    pl.col('timestamp').str.to_datetime().dt.date().alias('date'),\n",
    "    pl.col('timestamp').str.to_datetime().dt.time().alias('time'),\n",
    "    pl.col(\"timestamp\").str.to_datetime().dt.weekday().alias(\"weekday\"),\n",
    "    pl.col(\"timestamp\").str.to_datetime().dt.hour().alias(\"hour\"),\n",
    "    pl.col(\"timestamp\").str.to_datetime().dt.minute().alias(\"minute\")\n",
    "    ]\n",
    "\n",
    "#load train series data\n",
    "train_series = (pl.scan_parquet(\"/kaggle/input/chi-clean-dataset/Zzzs_train.parquet\")\n",
    "                .with_columns((dt_transforms))\n",
    "                .collect()\n",
    "                .to_pandas()\n",
    "               )       "
   ]
  },
  {
   "cell_type": "code",
   "execution_count": 4,
   "id": "70db3ce4",
   "metadata": {
    "execution": {
     "iopub.execute_input": "2024-08-03T12:10:50.930070Z",
     "iopub.status.busy": "2024-08-03T12:10:50.929695Z",
     "iopub.status.idle": "2024-08-03T12:10:50.952773Z",
     "shell.execute_reply": "2024-08-03T12:10:50.951079Z"
    },
    "papermill": {
     "duration": 0.035911,
     "end_time": "2024-08-03T12:10:50.955473",
     "exception": false,
     "start_time": "2024-08-03T12:10:50.919562",
     "status": "completed"
    },
    "tags": []
   },
   "outputs": [
    {
     "name": "stdout",
     "output_type": "stream",
     "text": [
      "<class 'pandas.core.frame.DataFrame'>\n",
      "RangeIndex: 13165560 entries, 0 to 13165559\n",
      "Data columns (total 11 columns):\n",
      " #   Column     Dtype              \n",
      "---  ------     -----              \n",
      " 0   series_id  object             \n",
      " 1   step       uint32             \n",
      " 2   timestamp  datetime64[us, UTC]\n",
      " 3   anglez     float32            \n",
      " 4   enmo       float32            \n",
      " 5   awake      int64              \n",
      " 6   date       datetime64[ms]     \n",
      " 7   time       object             \n",
      " 8   weekday    int8               \n",
      " 9   hour       int8               \n",
      " 10  minute     int8               \n",
      "dtypes: datetime64[ms](1), datetime64[us, UTC](1), float32(2), int64(1), int8(3), object(2), uint32(1)\n",
      "memory usage: 690.6+ MB\n"
     ]
    }
   ],
   "source": [
    "train_series.info()"
   ]
  },
  {
   "cell_type": "code",
   "execution_count": 5,
   "id": "8538aa6c",
   "metadata": {
    "execution": {
     "iopub.execute_input": "2024-08-03T12:10:50.975988Z",
     "iopub.status.busy": "2024-08-03T12:10:50.975555Z",
     "iopub.status.idle": "2024-08-03T12:10:50.998863Z",
     "shell.execute_reply": "2024-08-03T12:10:50.997676Z"
    },
    "papermill": {
     "duration": 0.036781,
     "end_time": "2024-08-03T12:10:51.001708",
     "exception": false,
     "start_time": "2024-08-03T12:10:50.964927",
     "status": "completed"
    },
    "tags": []
   },
   "outputs": [
    {
     "data": {
      "text/html": [
       "<div>\n",
       "<style scoped>\n",
       "    .dataframe tbody tr th:only-of-type {\n",
       "        vertical-align: middle;\n",
       "    }\n",
       "\n",
       "    .dataframe tbody tr th {\n",
       "        vertical-align: top;\n",
       "    }\n",
       "\n",
       "    .dataframe thead th {\n",
       "        text-align: right;\n",
       "    }\n",
       "</style>\n",
       "<table border=\"1\" class=\"dataframe\">\n",
       "  <thead>\n",
       "    <tr style=\"text-align: right;\">\n",
       "      <th></th>\n",
       "      <th>series_id</th>\n",
       "      <th>step</th>\n",
       "      <th>timestamp</th>\n",
       "      <th>anglez</th>\n",
       "      <th>enmo</th>\n",
       "      <th>awake</th>\n",
       "      <th>date</th>\n",
       "      <th>time</th>\n",
       "      <th>weekday</th>\n",
       "      <th>hour</th>\n",
       "      <th>minute</th>\n",
       "    </tr>\n",
       "  </thead>\n",
       "  <tbody>\n",
       "    <tr>\n",
       "      <th>0</th>\n",
       "      <td>08db4255286f</td>\n",
       "      <td>0</td>\n",
       "      <td>2018-11-05 14:00:00+00:00</td>\n",
       "      <td>-30.845301</td>\n",
       "      <td>0.0447</td>\n",
       "      <td>1</td>\n",
       "      <td>2018-11-05</td>\n",
       "      <td>14:00:00</td>\n",
       "      <td>1</td>\n",
       "      <td>14</td>\n",
       "      <td>0</td>\n",
       "    </tr>\n",
       "    <tr>\n",
       "      <th>1</th>\n",
       "      <td>08db4255286f</td>\n",
       "      <td>1</td>\n",
       "      <td>2018-11-05 14:00:05+00:00</td>\n",
       "      <td>-34.181801</td>\n",
       "      <td>0.0443</td>\n",
       "      <td>1</td>\n",
       "      <td>2018-11-05</td>\n",
       "      <td>14:00:05</td>\n",
       "      <td>1</td>\n",
       "      <td>14</td>\n",
       "      <td>0</td>\n",
       "    </tr>\n",
       "    <tr>\n",
       "      <th>2</th>\n",
       "      <td>08db4255286f</td>\n",
       "      <td>2</td>\n",
       "      <td>2018-11-05 14:00:10+00:00</td>\n",
       "      <td>-33.877102</td>\n",
       "      <td>0.0483</td>\n",
       "      <td>1</td>\n",
       "      <td>2018-11-05</td>\n",
       "      <td>14:00:10</td>\n",
       "      <td>1</td>\n",
       "      <td>14</td>\n",
       "      <td>0</td>\n",
       "    </tr>\n",
       "    <tr>\n",
       "      <th>3</th>\n",
       "      <td>08db4255286f</td>\n",
       "      <td>3</td>\n",
       "      <td>2018-11-05 14:00:15+00:00</td>\n",
       "      <td>-34.282101</td>\n",
       "      <td>0.0680</td>\n",
       "      <td>1</td>\n",
       "      <td>2018-11-05</td>\n",
       "      <td>14:00:15</td>\n",
       "      <td>1</td>\n",
       "      <td>14</td>\n",
       "      <td>0</td>\n",
       "    </tr>\n",
       "    <tr>\n",
       "      <th>4</th>\n",
       "      <td>08db4255286f</td>\n",
       "      <td>4</td>\n",
       "      <td>2018-11-05 14:00:20+00:00</td>\n",
       "      <td>-34.385799</td>\n",
       "      <td>0.0768</td>\n",
       "      <td>1</td>\n",
       "      <td>2018-11-05</td>\n",
       "      <td>14:00:20</td>\n",
       "      <td>1</td>\n",
       "      <td>14</td>\n",
       "      <td>0</td>\n",
       "    </tr>\n",
       "  </tbody>\n",
       "</table>\n",
       "</div>"
      ],
      "text/plain": [
       "      series_id  step                 timestamp     anglez    enmo  awake  \\\n",
       "0  08db4255286f     0 2018-11-05 14:00:00+00:00 -30.845301  0.0447      1   \n",
       "1  08db4255286f     1 2018-11-05 14:00:05+00:00 -34.181801  0.0443      1   \n",
       "2  08db4255286f     2 2018-11-05 14:00:10+00:00 -33.877102  0.0483      1   \n",
       "3  08db4255286f     3 2018-11-05 14:00:15+00:00 -34.282101  0.0680      1   \n",
       "4  08db4255286f     4 2018-11-05 14:00:20+00:00 -34.385799  0.0768      1   \n",
       "\n",
       "        date      time  weekday  hour  minute  \n",
       "0 2018-11-05  14:00:00        1    14       0  \n",
       "1 2018-11-05  14:00:05        1    14       0  \n",
       "2 2018-11-05  14:00:10        1    14       0  \n",
       "3 2018-11-05  14:00:15        1    14       0  \n",
       "4 2018-11-05  14:00:20        1    14       0  "
      ]
     },
     "execution_count": 5,
     "metadata": {},
     "output_type": "execute_result"
    }
   ],
   "source": [
    "train_series.head()"
   ]
  },
  {
   "cell_type": "code",
   "execution_count": 6,
   "id": "49f352d1",
   "metadata": {
    "execution": {
     "iopub.execute_input": "2024-08-03T12:10:51.022652Z",
     "iopub.status.busy": "2024-08-03T12:10:51.021551Z",
     "iopub.status.idle": "2024-08-03T12:10:53.952145Z",
     "shell.execute_reply": "2024-08-03T12:10:53.950999Z"
    },
    "papermill": {
     "duration": 2.943724,
     "end_time": "2024-08-03T12:10:53.954738",
     "exception": false,
     "start_time": "2024-08-03T12:10:51.011014",
     "status": "completed"
    },
    "tags": []
   },
   "outputs": [
    {
     "data": {
      "text/plain": [
       "series_id    0\n",
       "step         0\n",
       "timestamp    0\n",
       "anglez       0\n",
       "enmo         0\n",
       "awake        0\n",
       "date         0\n",
       "time         0\n",
       "weekday      0\n",
       "hour         0\n",
       "minute       0\n",
       "dtype: int64"
      ]
     },
     "execution_count": 6,
     "metadata": {},
     "output_type": "execute_result"
    }
   ],
   "source": [
    "train_series.isna().sum()"
   ]
  },
  {
   "cell_type": "code",
   "execution_count": 7,
   "id": "0103309a",
   "metadata": {
    "execution": {
     "iopub.execute_input": "2024-08-03T12:10:53.975534Z",
     "iopub.status.busy": "2024-08-03T12:10:53.975113Z",
     "iopub.status.idle": "2024-08-03T12:10:53.988965Z",
     "shell.execute_reply": "2024-08-03T12:10:53.987819Z"
    },
    "papermill": {
     "duration": 0.02764,
     "end_time": "2024-08-03T12:10:53.991759",
     "exception": false,
     "start_time": "2024-08-03T12:10:53.964119",
     "status": "completed"
    },
    "tags": []
   },
   "outputs": [],
   "source": [
    "def optimize_dataframe(df):\n",
    "    for col in df.columns:\n",
    "        col_type = df[col].dtype\n",
    "\n",
    "        if is_datetime64_any_dtype(df[col]):\n",
    "            continue  # Skip datetime columns\n",
    "\n",
    "        c_min = df[col].min()\n",
    "        c_max = df[col].max()\n",
    "\n",
    "        if is_integer_dtype(df[col]):\n",
    "            if c_min > np.iinfo(np.int8).min and c_max < np.iinfo(np.int8).max:\n",
    "                df[col] = df[col].astype(np.int8)\n",
    "            elif c_min > np.iinfo(np.int16).min and c_max < np.iinfo(np.int16).max:\n",
    "                df[col] = df[col].astype(np.int16)\n",
    "            elif c_min > np.iinfo(np.int32).min and c_max < np.iinfo(np.int32).max:\n",
    "                df[col] = df[col].astype(np.int32)\n",
    "            elif c_min > np.iinfo(np.int64).min and c_max < np.iinfo(np.int64).max:\n",
    "                df[col] = df[col].astype(np.int64)\n",
    "        elif is_float_dtype(df[col]):\n",
    "            if c_min > np.finfo(np.float16).min and c_max < np.finfo(np.float16).max:\n",
    "                df[col] = df[col].astype(np.float16)\n",
    "            elif c_min > np.finfo(np.float32).min and c_max < np.finfo(np.float32).max:\n",
    "                df[col] = df[col].astype(np.float32)\n",
    "            else:\n",
    "                df[col] = df[col].astype(np.float64)\n",
    "    return df"
   ]
  },
  {
   "cell_type": "code",
   "execution_count": 8,
   "id": "56c57c2e",
   "metadata": {
    "execution": {
     "iopub.execute_input": "2024-08-03T12:10:54.013106Z",
     "iopub.status.busy": "2024-08-03T12:10:54.012693Z",
     "iopub.status.idle": "2024-08-03T12:11:02.776651Z",
     "shell.execute_reply": "2024-08-03T12:11:02.775593Z"
    },
    "papermill": {
     "duration": 8.778028,
     "end_time": "2024-08-03T12:11:02.779320",
     "exception": false,
     "start_time": "2024-08-03T12:10:54.001292",
     "status": "completed"
    },
    "tags": []
   },
   "outputs": [],
   "source": [
    "columns_to_select = [col for col in train_series.columns if col != 'timestamp']\n",
    "\n",
    "#  use this list to select the columns\n",
    "f_train_data = train_series[columns_to_select]\n",
    "\n",
    "# optimize DataFrame reduce memory\n",
    "optimized_train_data = optimize_dataframe(f_train_data)"
   ]
  },
  {
   "cell_type": "code",
   "execution_count": 9,
   "id": "39180f85",
   "metadata": {
    "execution": {
     "iopub.execute_input": "2024-08-03T12:11:02.801058Z",
     "iopub.status.busy": "2024-08-03T12:11:02.800649Z",
     "iopub.status.idle": "2024-08-03T12:11:09.618807Z",
     "shell.execute_reply": "2024-08-03T12:11:09.617567Z"
    },
    "papermill": {
     "duration": 6.831575,
     "end_time": "2024-08-03T12:11:09.621549",
     "exception": false,
     "start_time": "2024-08-03T12:11:02.789974",
     "status": "completed"
    },
    "tags": []
   },
   "outputs": [],
   "source": [
    "def extract_full_day_data(df):\n",
    "    # Count the number of steps for each series_id and date\n",
    "    steps_per_day = df.groupby(['series_id', 'date'], as_index=False)['step'].count()\n",
    "    \n",
    "    # Filter to keep only the series_id and date combinations with 17280 steps\n",
    "    valid_days = steps_per_day[steps_per_day['step'] == 17280]\n",
    "    \n",
    "    # Merge the original DataFrame with the valid_days to filter the rows\n",
    "    filtered_df = pd.merge(df, valid_days[['series_id', 'date']], on=['series_id', 'date'], how='inner')\n",
    "    \n",
    "    return filtered_df\n",
    "\n",
    "all_data = extract_full_day_data(optimized_train_data)"
   ]
  },
  {
   "cell_type": "code",
   "execution_count": 10,
   "id": "5263915a",
   "metadata": {
    "execution": {
     "iopub.execute_input": "2024-08-03T12:11:09.646584Z",
     "iopub.status.busy": "2024-08-03T12:11:09.646183Z",
     "iopub.status.idle": "2024-08-03T12:11:09.845509Z",
     "shell.execute_reply": "2024-08-03T12:11:09.844368Z"
    },
    "papermill": {
     "duration": 0.216831,
     "end_time": "2024-08-03T12:11:09.848064",
     "exception": false,
     "start_time": "2024-08-03T12:11:09.631233",
     "status": "completed"
    },
    "tags": []
   },
   "outputs": [
    {
     "data": {
      "text/plain": [
       "0"
      ]
     },
     "execution_count": 10,
     "metadata": {},
     "output_type": "execute_result"
    }
   ],
   "source": [
    "del train_series\n",
    "del f_train_data\n",
    "del optimized_train_data\n",
    "gc.collect()"
   ]
  },
  {
   "cell_type": "code",
   "execution_count": 11,
   "id": "c4c35853",
   "metadata": {
    "execution": {
     "iopub.execute_input": "2024-08-03T12:11:09.868950Z",
     "iopub.status.busy": "2024-08-03T12:11:09.868451Z",
     "iopub.status.idle": "2024-08-03T12:11:09.893664Z",
     "shell.execute_reply": "2024-08-03T12:11:09.892666Z"
    },
    "papermill": {
     "duration": 0.038729,
     "end_time": "2024-08-03T12:11:09.896425",
     "exception": false,
     "start_time": "2024-08-03T12:11:09.857696",
     "status": "completed"
    },
    "tags": []
   },
   "outputs": [],
   "source": [
    "# Creating lagged absolute feature\n",
    "all_data['anglez'] = all_data['anglez'].abs()"
   ]
  },
  {
   "cell_type": "code",
   "execution_count": 12,
   "id": "d2aa3f98",
   "metadata": {
    "execution": {
     "iopub.execute_input": "2024-08-03T12:11:09.917249Z",
     "iopub.status.busy": "2024-08-03T12:11:09.916853Z",
     "iopub.status.idle": "2024-08-03T12:11:14.130683Z",
     "shell.execute_reply": "2024-08-03T12:11:14.129480Z"
    },
    "papermill": {
     "duration": 4.22747,
     "end_time": "2024-08-03T12:11:14.133672",
     "exception": false,
     "start_time": "2024-08-03T12:11:09.906202",
     "status": "completed"
    },
    "tags": []
   },
   "outputs": [],
   "source": [
    "# Creating lagged features\n",
    "all_data['anglez_diff'] = all_data.groupby('series_id')['anglez'].diff().abs().fillna(0)\n",
    "all_data['enmo_diff'] = all_data.groupby('series_id')['enmo'].diff().abs().fillna(0)"
   ]
  },
  {
   "cell_type": "code",
   "execution_count": 13,
   "id": "03c33904",
   "metadata": {
    "execution": {
     "iopub.execute_input": "2024-08-03T12:11:14.155240Z",
     "iopub.status.busy": "2024-08-03T12:11:14.154243Z",
     "iopub.status.idle": "2024-08-03T12:11:26.770943Z",
     "shell.execute_reply": "2024-08-03T12:11:26.769574Z"
    },
    "papermill": {
     "duration": 12.630676,
     "end_time": "2024-08-03T12:11:26.773940",
     "exception": false,
     "start_time": "2024-08-03T12:11:14.143264",
     "status": "completed"
    },
    "tags": []
   },
   "outputs": [],
   "source": [
    "# Compute rolling standard deviation 1 min \n",
    "all_data['anglez_roll_std_1m'] = all_data.groupby('series_id')['anglez'].rolling(12,center=True, min_periods=1).std().reset_index(level=0, drop=True)\n",
    "all_data['enmo_roll_std_1m'] = all_data.groupby('series_id')['enmo'].rolling(12,center=True, min_periods=1).std().reset_index(level=0, drop=True)"
   ]
  },
  {
   "cell_type": "code",
   "execution_count": 14,
   "id": "de6d5e67",
   "metadata": {
    "execution": {
     "iopub.execute_input": "2024-08-03T12:11:26.794898Z",
     "iopub.status.busy": "2024-08-03T12:11:26.794446Z",
     "iopub.status.idle": "2024-08-03T12:11:39.125951Z",
     "shell.execute_reply": "2024-08-03T12:11:39.124838Z"
    },
    "papermill": {
     "duration": 12.345254,
     "end_time": "2024-08-03T12:11:39.128898",
     "exception": false,
     "start_time": "2024-08-03T12:11:26.783644",
     "status": "completed"
    },
    "tags": []
   },
   "outputs": [],
   "source": [
    "# Creating rolling mean features 1 min\n",
    "all_data['anglez_roll_mean_1m'] = all_data.groupby('series_id')['anglez'].rolling(12,center=True, min_periods=1).mean().reset_index(level=0, drop=True)\n",
    "all_data['enmo_roll_mean_1m'] = all_data.groupby('series_id')['enmo'].rolling(12,center=True, min_periods=1).mean().reset_index(level=0, drop=True)"
   ]
  },
  {
   "cell_type": "code",
   "execution_count": 15,
   "id": "6f5341ef",
   "metadata": {
    "execution": {
     "iopub.execute_input": "2024-08-03T12:11:39.149760Z",
     "iopub.status.busy": "2024-08-03T12:11:39.149281Z",
     "iopub.status.idle": "2024-08-03T12:11:51.759093Z",
     "shell.execute_reply": "2024-08-03T12:11:51.758061Z"
    },
    "papermill": {
     "duration": 12.623397,
     "end_time": "2024-08-03T12:11:51.761816",
     "exception": false,
     "start_time": "2024-08-03T12:11:39.138419",
     "status": "completed"
    },
    "tags": []
   },
   "outputs": [],
   "source": [
    "# Compute rolling standard deviation 30 min\n",
    "all_data['anglez_roll_std_30m'] = all_data.groupby('series_id')['anglez'].rolling(360,center=True, min_periods=1).std().reset_index(level=0, drop=True)\n",
    "all_data['enmo_roll_std_30m'] = all_data.groupby('series_id')['enmo'].rolling(360,center=True, min_periods=1).std().reset_index(level=0, drop=True)"
   ]
  },
  {
   "cell_type": "code",
   "execution_count": 16,
   "id": "e7d84a04",
   "metadata": {
    "execution": {
     "iopub.execute_input": "2024-08-03T12:11:51.783180Z",
     "iopub.status.busy": "2024-08-03T12:11:51.782744Z",
     "iopub.status.idle": "2024-08-03T12:12:04.197423Z",
     "shell.execute_reply": "2024-08-03T12:12:04.196361Z"
    },
    "papermill": {
     "duration": 12.42897,
     "end_time": "2024-08-03T12:12:04.200422",
     "exception": false,
     "start_time": "2024-08-03T12:11:51.771452",
     "status": "completed"
    },
    "tags": []
   },
   "outputs": [],
   "source": [
    "# Creating rolling mean features 30 min\n",
    "all_data['anglez_roll_mean_30m'] = all_data.groupby('series_id')['anglez'].rolling(360,center=True, min_periods=1).mean().reset_index(level=0, drop=True)\n",
    "all_data['enmo_roll_mean_30m'] = all_data.groupby('series_id')['enmo'].rolling(360,center=True, min_periods=1).mean().reset_index(level=0, drop=True)"
   ]
  },
  {
   "cell_type": "code",
   "execution_count": 17,
   "id": "f3be0be1",
   "metadata": {
    "execution": {
     "iopub.execute_input": "2024-08-03T12:12:04.221266Z",
     "iopub.status.busy": "2024-08-03T12:12:04.220877Z",
     "iopub.status.idle": "2024-08-03T12:12:16.935311Z",
     "shell.execute_reply": "2024-08-03T12:12:16.933691Z"
    },
    "papermill": {
     "duration": 12.728902,
     "end_time": "2024-08-03T12:12:16.938900",
     "exception": false,
     "start_time": "2024-08-03T12:12:04.209998",
     "status": "completed"
    },
    "tags": []
   },
   "outputs": [],
   "source": [
    "# Compute rolling standard deviation 1 hour\n",
    "all_data['anglez_roll_std_1h'] = all_data.groupby('series_id')['anglez'].rolling(720,center=True, min_periods=1).std().reset_index(level=0, drop=True)\n",
    "all_data['enmo_roll_std_1h'] = all_data.groupby('series_id')['enmo'].rolling(720,center=True, min_periods=1).std().reset_index(level=0, drop=True)"
   ]
  },
  {
   "cell_type": "code",
   "execution_count": 18,
   "id": "f7890115",
   "metadata": {
    "execution": {
     "iopub.execute_input": "2024-08-03T12:12:16.960078Z",
     "iopub.status.busy": "2024-08-03T12:12:16.959587Z",
     "iopub.status.idle": "2024-08-03T12:12:29.417397Z",
     "shell.execute_reply": "2024-08-03T12:12:29.415997Z"
    },
    "papermill": {
     "duration": 12.471584,
     "end_time": "2024-08-03T12:12:29.420330",
     "exception": false,
     "start_time": "2024-08-03T12:12:16.948746",
     "status": "completed"
    },
    "tags": []
   },
   "outputs": [],
   "source": [
    "# Creating rolling mean features 1 hour\n",
    "all_data['anglez_roll_mean_1h'] = all_data.groupby('series_id')['anglez'].rolling(720,center=True, min_periods=1).mean().reset_index(level=0, drop=True)\n",
    "all_data['enmo_roll_mean_1h'] = all_data.groupby('series_id')['enmo'].rolling(720,center=True, min_periods=1).mean().reset_index(level=0, drop=True)"
   ]
  },
  {
   "cell_type": "code",
   "execution_count": 19,
   "id": "71d8657e",
   "metadata": {
    "execution": {
     "iopub.execute_input": "2024-08-03T12:12:29.443036Z",
     "iopub.status.busy": "2024-08-03T12:12:29.441629Z",
     "iopub.status.idle": "2024-08-03T12:12:29.972167Z",
     "shell.execute_reply": "2024-08-03T12:12:29.971083Z"
    },
    "papermill": {
     "duration": 0.544798,
     "end_time": "2024-08-03T12:12:29.974905",
     "exception": false,
     "start_time": "2024-08-03T12:12:29.430107",
     "status": "completed"
    },
    "tags": []
   },
   "outputs": [],
   "source": [
    "# Convert hours to radians\n",
    "# Calculate sine and cosine of the hour column directly\n",
    "all_data['sin_hour'] = np.sin(all_data['hour'] * (2 * np.pi / 24))\n",
    "all_data['cos_hour'] = np.cos(all_data['hour'] * (2 * np.pi / 24))"
   ]
  },
  {
   "cell_type": "code",
   "execution_count": 20,
   "id": "e343063a",
   "metadata": {
    "execution": {
     "iopub.execute_input": "2024-08-03T12:12:29.995710Z",
     "iopub.status.busy": "2024-08-03T12:12:29.995198Z",
     "iopub.status.idle": "2024-08-03T12:12:30.533351Z",
     "shell.execute_reply": "2024-08-03T12:12:30.531934Z"
    },
    "papermill": {
     "duration": 0.551893,
     "end_time": "2024-08-03T12:12:30.536402",
     "exception": false,
     "start_time": "2024-08-03T12:12:29.984509",
     "status": "completed"
    },
    "tags": []
   },
   "outputs": [],
   "source": [
    "# Convert hours to radians\n",
    "# Calculate sine and cosine of the hour column directly\n",
    "all_data['sin_minute'] = np.sin(all_data['minute'] * (2 * np.pi / 60))\n",
    "all_data['cos_minute'] = np.cos(all_data['minute'] * (2 * np.pi / 60))"
   ]
  },
  {
   "cell_type": "code",
   "execution_count": 21,
   "id": "9e0ede6a",
   "metadata": {
    "execution": {
     "iopub.execute_input": "2024-08-03T12:12:30.557475Z",
     "iopub.status.busy": "2024-08-03T12:12:30.557039Z",
     "iopub.status.idle": "2024-08-03T12:12:32.291248Z",
     "shell.execute_reply": "2024-08-03T12:12:32.290206Z"
    },
    "papermill": {
     "duration": 1.747967,
     "end_time": "2024-08-03T12:12:32.294081",
     "exception": false,
     "start_time": "2024-08-03T12:12:30.546114",
     "status": "completed"
    },
    "tags": []
   },
   "outputs": [],
   "source": [
    "all_data = all_data.drop(columns=['hour','minute'])"
   ]
  },
  {
   "cell_type": "code",
   "execution_count": 22,
   "id": "f78519f1",
   "metadata": {
    "execution": {
     "iopub.execute_input": "2024-08-03T12:12:32.314547Z",
     "iopub.status.busy": "2024-08-03T12:12:32.314141Z",
     "iopub.status.idle": "2024-08-03T12:12:43.525725Z",
     "shell.execute_reply": "2024-08-03T12:12:43.524011Z"
    },
    "papermill": {
     "duration": 11.225249,
     "end_time": "2024-08-03T12:12:43.528719",
     "exception": false,
     "start_time": "2024-08-03T12:12:32.303470",
     "status": "completed"
    },
    "tags": []
   },
   "outputs": [],
   "source": [
    "gc.collect()\n",
    "# optimize DataFrame reduce memory\n",
    "all_data = optimize_dataframe(all_data)"
   ]
  },
  {
   "cell_type": "code",
   "execution_count": 23,
   "id": "1a950c9b",
   "metadata": {
    "execution": {
     "iopub.execute_input": "2024-08-03T12:12:43.549860Z",
     "iopub.status.busy": "2024-08-03T12:12:43.549380Z",
     "iopub.status.idle": "2024-08-03T12:12:45.415228Z",
     "shell.execute_reply": "2024-08-03T12:12:45.414012Z"
    },
    "papermill": {
     "duration": 1.879638,
     "end_time": "2024-08-03T12:12:45.418035",
     "exception": false,
     "start_time": "2024-08-03T12:12:43.538397",
     "status": "completed"
    },
    "tags": []
   },
   "outputs": [
    {
     "data": {
      "text/plain": [
       "step\n",
       "False    35\n",
       "Name: count, dtype: int64"
      ]
     },
     "execution_count": 23,
     "metadata": {},
     "output_type": "execute_result"
    }
   ],
   "source": [
    "series_has_NaN = all_data.groupby('series_id')['step'].apply(lambda x: x.isnull().any())\n",
    "series_has_NaN.value_counts()"
   ]
  },
  {
   "cell_type": "code",
   "execution_count": 24,
   "id": "a9a09c8a",
   "metadata": {
    "execution": {
     "iopub.execute_input": "2024-08-03T12:12:45.439569Z",
     "iopub.status.busy": "2024-08-03T12:12:45.438712Z",
     "iopub.status.idle": "2024-08-03T12:12:49.712789Z",
     "shell.execute_reply": "2024-08-03T12:12:49.711667Z"
    },
    "papermill": {
     "duration": 4.288819,
     "end_time": "2024-08-03T12:12:49.716345",
     "exception": false,
     "start_time": "2024-08-03T12:12:45.427526",
     "status": "completed"
    },
    "tags": []
   },
   "outputs": [
    {
     "data": {
      "text/html": [
       "<div>\n",
       "<style scoped>\n",
       "    .dataframe tbody tr th:only-of-type {\n",
       "        vertical-align: middle;\n",
       "    }\n",
       "\n",
       "    .dataframe tbody tr th {\n",
       "        vertical-align: top;\n",
       "    }\n",
       "\n",
       "    .dataframe thead th {\n",
       "        text-align: right;\n",
       "    }\n",
       "</style>\n",
       "<table border=\"1\" class=\"dataframe\">\n",
       "  <thead>\n",
       "    <tr style=\"text-align: right;\">\n",
       "      <th></th>\n",
       "      <th>series_id</th>\n",
       "      <th>step</th>\n",
       "      <th>anglez</th>\n",
       "      <th>enmo</th>\n",
       "      <th>awake</th>\n",
       "      <th>date</th>\n",
       "      <th>time</th>\n",
       "      <th>weekday</th>\n",
       "      <th>anglez_diff</th>\n",
       "      <th>enmo_diff</th>\n",
       "      <th>...</th>\n",
       "      <th>anglez_roll_mean_30m</th>\n",
       "      <th>enmo_roll_mean_30m</th>\n",
       "      <th>anglez_roll_std_1h</th>\n",
       "      <th>enmo_roll_std_1h</th>\n",
       "      <th>anglez_roll_mean_1h</th>\n",
       "      <th>enmo_roll_mean_1h</th>\n",
       "      <th>sin_hour</th>\n",
       "      <th>cos_hour</th>\n",
       "      <th>sin_minute</th>\n",
       "      <th>cos_minute</th>\n",
       "    </tr>\n",
       "  </thead>\n",
       "  <tbody>\n",
       "    <tr>\n",
       "      <th>0</th>\n",
       "      <td>08db4255286f</td>\n",
       "      <td>7200</td>\n",
       "      <td>8.765625</td>\n",
       "      <td>0.007801</td>\n",
       "      <td>1</td>\n",
       "      <td>2018-11-06</td>\n",
       "      <td>00:00:00</td>\n",
       "      <td>2</td>\n",
       "      <td>0.000000</td>\n",
       "      <td>0.000000</td>\n",
       "      <td>...</td>\n",
       "      <td>24.375000</td>\n",
       "      <td>0.051208</td>\n",
       "      <td>17.953125</td>\n",
       "      <td>0.079102</td>\n",
       "      <td>26.296875</td>\n",
       "      <td>0.059235</td>\n",
       "      <td>0.000000</td>\n",
       "      <td>1.00000</td>\n",
       "      <td>0.000000</td>\n",
       "      <td>1.000000</td>\n",
       "    </tr>\n",
       "    <tr>\n",
       "      <th>1</th>\n",
       "      <td>08db4255286f</td>\n",
       "      <td>7201</td>\n",
       "      <td>2.109375</td>\n",
       "      <td>0.003500</td>\n",
       "      <td>1</td>\n",
       "      <td>2018-11-06</td>\n",
       "      <td>00:00:05</td>\n",
       "      <td>2</td>\n",
       "      <td>6.656250</td>\n",
       "      <td>0.004303</td>\n",
       "      <td>...</td>\n",
       "      <td>24.406250</td>\n",
       "      <td>0.050995</td>\n",
       "      <td>17.953125</td>\n",
       "      <td>0.079102</td>\n",
       "      <td>26.250000</td>\n",
       "      <td>0.059448</td>\n",
       "      <td>0.000000</td>\n",
       "      <td>1.00000</td>\n",
       "      <td>0.000000</td>\n",
       "      <td>1.000000</td>\n",
       "    </tr>\n",
       "    <tr>\n",
       "      <th>2</th>\n",
       "      <td>08db4255286f</td>\n",
       "      <td>7202</td>\n",
       "      <td>1.858398</td>\n",
       "      <td>0.004299</td>\n",
       "      <td>1</td>\n",
       "      <td>2018-11-06</td>\n",
       "      <td>00:00:10</td>\n",
       "      <td>2</td>\n",
       "      <td>0.250977</td>\n",
       "      <td>0.000799</td>\n",
       "      <td>...</td>\n",
       "      <td>24.453125</td>\n",
       "      <td>0.050873</td>\n",
       "      <td>17.984375</td>\n",
       "      <td>0.078979</td>\n",
       "      <td>26.187500</td>\n",
       "      <td>0.059479</td>\n",
       "      <td>0.000000</td>\n",
       "      <td>1.00000</td>\n",
       "      <td>0.000000</td>\n",
       "      <td>1.000000</td>\n",
       "    </tr>\n",
       "    <tr>\n",
       "      <th>3</th>\n",
       "      <td>08db4255286f</td>\n",
       "      <td>7203</td>\n",
       "      <td>1.626953</td>\n",
       "      <td>0.000200</td>\n",
       "      <td>1</td>\n",
       "      <td>2018-11-06</td>\n",
       "      <td>00:00:15</td>\n",
       "      <td>2</td>\n",
       "      <td>0.231445</td>\n",
       "      <td>0.004101</td>\n",
       "      <td>...</td>\n",
       "      <td>24.484375</td>\n",
       "      <td>0.050690</td>\n",
       "      <td>18.000000</td>\n",
       "      <td>0.079041</td>\n",
       "      <td>26.109375</td>\n",
       "      <td>0.059723</td>\n",
       "      <td>0.000000</td>\n",
       "      <td>1.00000</td>\n",
       "      <td>0.000000</td>\n",
       "      <td>1.000000</td>\n",
       "    </tr>\n",
       "    <tr>\n",
       "      <th>4</th>\n",
       "      <td>08db4255286f</td>\n",
       "      <td>7204</td>\n",
       "      <td>2.388672</td>\n",
       "      <td>0.000400</td>\n",
       "      <td>1</td>\n",
       "      <td>2018-11-06</td>\n",
       "      <td>00:00:20</td>\n",
       "      <td>2</td>\n",
       "      <td>0.761719</td>\n",
       "      <td>0.000200</td>\n",
       "      <td>...</td>\n",
       "      <td>24.515625</td>\n",
       "      <td>0.050507</td>\n",
       "      <td>18.000000</td>\n",
       "      <td>0.079651</td>\n",
       "      <td>26.062500</td>\n",
       "      <td>0.060272</td>\n",
       "      <td>0.000000</td>\n",
       "      <td>1.00000</td>\n",
       "      <td>0.000000</td>\n",
       "      <td>1.000000</td>\n",
       "    </tr>\n",
       "    <tr>\n",
       "      <th>...</th>\n",
       "      <td>...</td>\n",
       "      <td>...</td>\n",
       "      <td>...</td>\n",
       "      <td>...</td>\n",
       "      <td>...</td>\n",
       "      <td>...</td>\n",
       "      <td>...</td>\n",
       "      <td>...</td>\n",
       "      <td>...</td>\n",
       "      <td>...</td>\n",
       "      <td>...</td>\n",
       "      <td>...</td>\n",
       "      <td>...</td>\n",
       "      <td>...</td>\n",
       "      <td>...</td>\n",
       "      <td>...</td>\n",
       "      <td>...</td>\n",
       "      <td>...</td>\n",
       "      <td>...</td>\n",
       "      <td>...</td>\n",
       "      <td>...</td>\n",
       "    </tr>\n",
       "    <tr>\n",
       "      <th>12700795</th>\n",
       "      <td>d5e47b94477e</td>\n",
       "      <td>380875</td>\n",
       "      <td>37.500000</td>\n",
       "      <td>0.037811</td>\n",
       "      <td>1</td>\n",
       "      <td>2017-12-01</td>\n",
       "      <td>23:59:35</td>\n",
       "      <td>5</td>\n",
       "      <td>4.968750</td>\n",
       "      <td>0.011780</td>\n",
       "      <td>...</td>\n",
       "      <td>21.265625</td>\n",
       "      <td>0.047699</td>\n",
       "      <td>14.296875</td>\n",
       "      <td>0.049042</td>\n",
       "      <td>20.125000</td>\n",
       "      <td>0.042755</td>\n",
       "      <td>-0.258789</td>\n",
       "      <td>0.96582</td>\n",
       "      <td>-0.104553</td>\n",
       "      <td>0.994629</td>\n",
       "    </tr>\n",
       "    <tr>\n",
       "      <th>12700796</th>\n",
       "      <td>d5e47b94477e</td>\n",
       "      <td>380876</td>\n",
       "      <td>32.593750</td>\n",
       "      <td>0.033905</td>\n",
       "      <td>1</td>\n",
       "      <td>2017-12-01</td>\n",
       "      <td>23:59:40</td>\n",
       "      <td>5</td>\n",
       "      <td>4.906250</td>\n",
       "      <td>0.003906</td>\n",
       "      <td>...</td>\n",
       "      <td>21.359375</td>\n",
       "      <td>0.047943</td>\n",
       "      <td>14.312500</td>\n",
       "      <td>0.049103</td>\n",
       "      <td>20.109375</td>\n",
       "      <td>0.042694</td>\n",
       "      <td>-0.258789</td>\n",
       "      <td>0.96582</td>\n",
       "      <td>-0.104553</td>\n",
       "      <td>0.994629</td>\n",
       "    </tr>\n",
       "    <tr>\n",
       "      <th>12700797</th>\n",
       "      <td>d5e47b94477e</td>\n",
       "      <td>380877</td>\n",
       "      <td>27.671875</td>\n",
       "      <td>0.022400</td>\n",
       "      <td>1</td>\n",
       "      <td>2017-12-01</td>\n",
       "      <td>23:59:45</td>\n",
       "      <td>5</td>\n",
       "      <td>4.921875</td>\n",
       "      <td>0.011505</td>\n",
       "      <td>...</td>\n",
       "      <td>21.468750</td>\n",
       "      <td>0.048187</td>\n",
       "      <td>14.328125</td>\n",
       "      <td>0.049164</td>\n",
       "      <td>20.125000</td>\n",
       "      <td>0.042725</td>\n",
       "      <td>-0.258789</td>\n",
       "      <td>0.96582</td>\n",
       "      <td>-0.104553</td>\n",
       "      <td>0.994629</td>\n",
       "    </tr>\n",
       "    <tr>\n",
       "      <th>12700798</th>\n",
       "      <td>d5e47b94477e</td>\n",
       "      <td>380878</td>\n",
       "      <td>24.750000</td>\n",
       "      <td>0.023605</td>\n",
       "      <td>1</td>\n",
       "      <td>2017-12-01</td>\n",
       "      <td>23:59:50</td>\n",
       "      <td>5</td>\n",
       "      <td>2.921875</td>\n",
       "      <td>0.001205</td>\n",
       "      <td>...</td>\n",
       "      <td>21.484375</td>\n",
       "      <td>0.048401</td>\n",
       "      <td>14.335938</td>\n",
       "      <td>0.049225</td>\n",
       "      <td>20.156250</td>\n",
       "      <td>0.042786</td>\n",
       "      <td>-0.258789</td>\n",
       "      <td>0.96582</td>\n",
       "      <td>-0.104553</td>\n",
       "      <td>0.994629</td>\n",
       "    </tr>\n",
       "    <tr>\n",
       "      <th>12700799</th>\n",
       "      <td>d5e47b94477e</td>\n",
       "      <td>380879</td>\n",
       "      <td>23.062500</td>\n",
       "      <td>0.018600</td>\n",
       "      <td>1</td>\n",
       "      <td>2017-12-01</td>\n",
       "      <td>23:59:55</td>\n",
       "      <td>5</td>\n",
       "      <td>1.687500</td>\n",
       "      <td>0.005005</td>\n",
       "      <td>...</td>\n",
       "      <td>21.578125</td>\n",
       "      <td>0.048676</td>\n",
       "      <td>14.328125</td>\n",
       "      <td>0.049286</td>\n",
       "      <td>20.109375</td>\n",
       "      <td>0.042847</td>\n",
       "      <td>-0.258789</td>\n",
       "      <td>0.96582</td>\n",
       "      <td>-0.104553</td>\n",
       "      <td>0.994629</td>\n",
       "    </tr>\n",
       "  </tbody>\n",
       "</table>\n",
       "<p>12700800 rows × 26 columns</p>\n",
       "</div>"
      ],
      "text/plain": [
       "             series_id    step     anglez      enmo  awake       date  \\\n",
       "0         08db4255286f    7200   8.765625  0.007801      1 2018-11-06   \n",
       "1         08db4255286f    7201   2.109375  0.003500      1 2018-11-06   \n",
       "2         08db4255286f    7202   1.858398  0.004299      1 2018-11-06   \n",
       "3         08db4255286f    7203   1.626953  0.000200      1 2018-11-06   \n",
       "4         08db4255286f    7204   2.388672  0.000400      1 2018-11-06   \n",
       "...                ...     ...        ...       ...    ...        ...   \n",
       "12700795  d5e47b94477e  380875  37.500000  0.037811      1 2017-12-01   \n",
       "12700796  d5e47b94477e  380876  32.593750  0.033905      1 2017-12-01   \n",
       "12700797  d5e47b94477e  380877  27.671875  0.022400      1 2017-12-01   \n",
       "12700798  d5e47b94477e  380878  24.750000  0.023605      1 2017-12-01   \n",
       "12700799  d5e47b94477e  380879  23.062500  0.018600      1 2017-12-01   \n",
       "\n",
       "              time  weekday  anglez_diff  enmo_diff  ...  \\\n",
       "0         00:00:00        2     0.000000   0.000000  ...   \n",
       "1         00:00:05        2     6.656250   0.004303  ...   \n",
       "2         00:00:10        2     0.250977   0.000799  ...   \n",
       "3         00:00:15        2     0.231445   0.004101  ...   \n",
       "4         00:00:20        2     0.761719   0.000200  ...   \n",
       "...            ...      ...          ...        ...  ...   \n",
       "12700795  23:59:35        5     4.968750   0.011780  ...   \n",
       "12700796  23:59:40        5     4.906250   0.003906  ...   \n",
       "12700797  23:59:45        5     4.921875   0.011505  ...   \n",
       "12700798  23:59:50        5     2.921875   0.001205  ...   \n",
       "12700799  23:59:55        5     1.687500   0.005005  ...   \n",
       "\n",
       "          anglez_roll_mean_30m  enmo_roll_mean_30m  anglez_roll_std_1h  \\\n",
       "0                    24.375000            0.051208           17.953125   \n",
       "1                    24.406250            0.050995           17.953125   \n",
       "2                    24.453125            0.050873           17.984375   \n",
       "3                    24.484375            0.050690           18.000000   \n",
       "4                    24.515625            0.050507           18.000000   \n",
       "...                        ...                 ...                 ...   \n",
       "12700795             21.265625            0.047699           14.296875   \n",
       "12700796             21.359375            0.047943           14.312500   \n",
       "12700797             21.468750            0.048187           14.328125   \n",
       "12700798             21.484375            0.048401           14.335938   \n",
       "12700799             21.578125            0.048676           14.328125   \n",
       "\n",
       "          enmo_roll_std_1h  anglez_roll_mean_1h  enmo_roll_mean_1h  sin_hour  \\\n",
       "0                 0.079102            26.296875           0.059235  0.000000   \n",
       "1                 0.079102            26.250000           0.059448  0.000000   \n",
       "2                 0.078979            26.187500           0.059479  0.000000   \n",
       "3                 0.079041            26.109375           0.059723  0.000000   \n",
       "4                 0.079651            26.062500           0.060272  0.000000   \n",
       "...                    ...                  ...                ...       ...   \n",
       "12700795          0.049042            20.125000           0.042755 -0.258789   \n",
       "12700796          0.049103            20.109375           0.042694 -0.258789   \n",
       "12700797          0.049164            20.125000           0.042725 -0.258789   \n",
       "12700798          0.049225            20.156250           0.042786 -0.258789   \n",
       "12700799          0.049286            20.109375           0.042847 -0.258789   \n",
       "\n",
       "          cos_hour  sin_minute  cos_minute  \n",
       "0          1.00000    0.000000    1.000000  \n",
       "1          1.00000    0.000000    1.000000  \n",
       "2          1.00000    0.000000    1.000000  \n",
       "3          1.00000    0.000000    1.000000  \n",
       "4          1.00000    0.000000    1.000000  \n",
       "...            ...         ...         ...  \n",
       "12700795   0.96582   -0.104553    0.994629  \n",
       "12700796   0.96582   -0.104553    0.994629  \n",
       "12700797   0.96582   -0.104553    0.994629  \n",
       "12700798   0.96582   -0.104553    0.994629  \n",
       "12700799   0.96582   -0.104553    0.994629  \n",
       "\n",
       "[12700800 rows x 26 columns]"
      ]
     },
     "execution_count": 24,
     "metadata": {},
     "output_type": "execute_result"
    }
   ],
   "source": [
    "all_data"
   ]
  },
  {
   "cell_type": "code",
   "execution_count": 25,
   "id": "4d0da184",
   "metadata": {
    "execution": {
     "iopub.execute_input": "2024-08-03T12:12:49.739528Z",
     "iopub.status.busy": "2024-08-03T12:12:49.738476Z",
     "iopub.status.idle": "2024-08-03T12:13:07.955724Z",
     "shell.execute_reply": "2024-08-03T12:13:07.954196Z"
    },
    "papermill": {
     "duration": 18.233179,
     "end_time": "2024-08-03T12:13:07.960155",
     "exception": false,
     "start_time": "2024-08-03T12:12:49.726976",
     "status": "completed"
    },
    "tags": []
   },
   "outputs": [],
   "source": [
    "all_data.to_parquet(\"train_dataset.parquet\", index=False)"
   ]
  }
 ],
 "metadata": {
  "kaggle": {
   "accelerator": "none",
   "dataSources": [
    {
     "databundleVersionId": 6589269,
     "sourceId": 53666,
     "sourceType": "competition"
    },
    {
     "sourceId": 191021993,
     "sourceType": "kernelVersion"
    }
   ],
   "dockerImageVersionId": 30698,
   "isGpuEnabled": false,
   "isInternetEnabled": true,
   "language": "python",
   "sourceType": "notebook"
  },
  "kernelspec": {
   "display_name": "Python 3",
   "language": "python",
   "name": "python3"
  },
  "language_info": {
   "codemirror_mode": {
    "name": "ipython",
    "version": 3
   },
   "file_extension": ".py",
   "mimetype": "text/x-python",
   "name": "python",
   "nbconvert_exporter": "python",
   "pygments_lexer": "ipython3",
   "version": "3.10.13"
  },
  "papermill": {
   "default_parameters": {},
   "duration": 159.39321,
   "end_time": "2024-08-03T12:13:08.896397",
   "environment_variables": {},
   "exception": null,
   "input_path": "__notebook__.ipynb",
   "output_path": "__notebook__.ipynb",
   "parameters": {},
   "start_time": "2024-08-03T12:10:29.503187",
   "version": "2.5.0"
  }
 },
 "nbformat": 4,
 "nbformat_minor": 5
}
