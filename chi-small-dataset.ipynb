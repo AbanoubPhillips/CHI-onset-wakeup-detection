{
 "cells": [
  {
   "cell_type": "code",
   "execution_count": 1,
   "id": "42ae2621",
   "metadata": {
    "execution": {
     "iopub.execute_input": "2024-08-12T23:00:10.740429Z",
     "iopub.status.busy": "2024-08-12T23:00:10.740009Z",
     "iopub.status.idle": "2024-08-12T23:00:11.814424Z",
     "shell.execute_reply": "2024-08-12T23:00:11.813386Z"
    },
    "papermill": {
     "duration": 1.085433,
     "end_time": "2024-08-12T23:00:11.817111",
     "exception": false,
     "start_time": "2024-08-12T23:00:10.731678",
     "status": "completed"
    },
    "tags": []
   },
   "outputs": [],
   "source": [
    "import polars as pl\n",
    "import numpy as np\n",
    "import pandas as pd\n",
    "from datetime import datetime\n",
    "import matplotlib.pyplot as plt\n",
    "from pandas.api.types import is_datetime64_any_dtype, is_integer_dtype, is_float_dtype\n",
    "import gc\n",
    "import warnings\n",
    "warnings.filterwarnings(\"ignore\")"
   ]
  },
  {
   "cell_type": "code",
   "execution_count": 2,
   "id": "6967d486",
   "metadata": {
    "execution": {
     "iopub.execute_input": "2024-08-12T23:00:11.829990Z",
     "iopub.status.busy": "2024-08-12T23:00:11.828935Z",
     "iopub.status.idle": "2024-08-12T23:00:11.892803Z",
     "shell.execute_reply": "2024-08-12T23:00:11.891774Z"
    },
    "papermill": {
     "duration": 0.072769,
     "end_time": "2024-08-12T23:00:11.895414",
     "exception": false,
     "start_time": "2024-08-12T23:00:11.822645",
     "status": "completed"
    },
    "tags": []
   },
   "outputs": [],
   "source": [
    "train_events = pd.read_csv(\"/kaggle/input/child-mind-institute-detect-sleep-states/train_events.csv\")"
   ]
  },
  {
   "cell_type": "code",
   "execution_count": 3,
   "id": "5d2a572d",
   "metadata": {
    "execution": {
     "iopub.execute_input": "2024-08-12T23:00:11.907348Z",
     "iopub.status.busy": "2024-08-12T23:00:11.906977Z",
     "iopub.status.idle": "2024-08-12T23:00:11.926938Z",
     "shell.execute_reply": "2024-08-12T23:00:11.925980Z"
    },
    "papermill": {
     "duration": 0.028681,
     "end_time": "2024-08-12T23:00:11.929422",
     "exception": false,
     "start_time": "2024-08-12T23:00:11.900741",
     "status": "completed"
    },
    "tags": []
   },
   "outputs": [
    {
     "data": {
      "text/plain": [
       "series_id       0\n",
       "night           0\n",
       "event           0\n",
       "step         4923\n",
       "timestamp    4923\n",
       "dtype: int64"
      ]
     },
     "execution_count": 3,
     "metadata": {},
     "output_type": "execute_result"
    }
   ],
   "source": [
    "train_events.isna().sum()"
   ]
  },
  {
   "cell_type": "code",
   "execution_count": 4,
   "id": "0359b1f8",
   "metadata": {
    "execution": {
     "iopub.execute_input": "2024-08-12T23:00:11.941925Z",
     "iopub.status.busy": "2024-08-12T23:00:11.941063Z",
     "iopub.status.idle": "2024-08-12T23:00:11.990130Z",
     "shell.execute_reply": "2024-08-12T23:00:11.989056Z"
    },
    "papermill": {
     "duration": 0.057632,
     "end_time": "2024-08-12T23:00:11.992477",
     "exception": false,
     "start_time": "2024-08-12T23:00:11.934845",
     "status": "completed"
    },
    "tags": []
   },
   "outputs": [
    {
     "data": {
      "text/plain": [
       "step\n",
       "True     240\n",
       "False     37\n",
       "Name: count, dtype: int64"
      ]
     },
     "execution_count": 4,
     "metadata": {},
     "output_type": "execute_result"
    }
   ],
   "source": [
    "series_has_NaN = train_events.groupby('series_id')['step'].apply(lambda x: x.isnull().any())\n",
    "series_has_NaN.value_counts()"
   ]
  },
  {
   "cell_type": "code",
   "execution_count": 5,
   "id": "4fda785f",
   "metadata": {
    "execution": {
     "iopub.execute_input": "2024-08-12T23:00:12.005260Z",
     "iopub.status.busy": "2024-08-12T23:00:12.004560Z",
     "iopub.status.idle": "2024-08-12T23:00:12.012845Z",
     "shell.execute_reply": "2024-08-12T23:00:12.011928Z"
    },
    "papermill": {
     "duration": 0.017123,
     "end_time": "2024-08-12T23:00:12.015053",
     "exception": false,
     "start_time": "2024-08-12T23:00:11.997930",
     "status": "completed"
    },
    "tags": []
   },
   "outputs": [
    {
     "data": {
      "text/plain": [
       "['08db4255286f',\n",
       " '0a96f4993bd7',\n",
       " '0cfc06c129cc',\n",
       " '1087d7b0ff2e',\n",
       " '10f8bc1f7b07',\n",
       " '18b61dd5aae8',\n",
       " '29c75c018220',\n",
       " '31011ade7c0a',\n",
       " '3452b878e596',\n",
       " '349c5562ee2c',\n",
       " '3664fe9233f9',\n",
       " '483d6545417f',\n",
       " '55a47ff9dc8a',\n",
       " '5acc9d63b5fd',\n",
       " '5f94bb3e1bed',\n",
       " '655f19eabf1e',\n",
       " '67f5fc60e494',\n",
       " '72bbd1ac3edf',\n",
       " '76237b9406d5',\n",
       " '7822ee8fe3ec',\n",
       " '89bd631d1769',\n",
       " '8e32047cbc1f',\n",
       " '939932f1822d',\n",
       " '9ee455e4770d',\n",
       " 'a596ad0b82aa',\n",
       " 'a9a2f7fac455',\n",
       " 'a9e5f5314bcb',\n",
       " 'af91d9a50547',\n",
       " 'b364205aba43',\n",
       " 'c535634d7dcd',\n",
       " 'c6788e579967',\n",
       " 'c68260cc9e8f',\n",
       " 'ca730dbf521d',\n",
       " 'd150801f3145',\n",
       " 'd25e479ecbb7',\n",
       " 'd515236bdeec',\n",
       " 'd5e47b94477e']"
      ]
     },
     "execution_count": 5,
     "metadata": {},
     "output_type": "execute_result"
    }
   ],
   "source": [
    "no_NaN_series = series_has_NaN[~series_has_NaN].index.tolist()\n",
    "no_NaN_series"
   ]
  },
  {
   "cell_type": "code",
   "execution_count": 6,
   "id": "a6802f27",
   "metadata": {
    "execution": {
     "iopub.execute_input": "2024-08-12T23:00:12.028024Z",
     "iopub.status.busy": "2024-08-12T23:00:12.027260Z",
     "iopub.status.idle": "2024-08-12T23:00:12.032090Z",
     "shell.execute_reply": "2024-08-12T23:00:12.031155Z"
    },
    "papermill": {
     "duration": 0.013843,
     "end_time": "2024-08-12T23:00:12.034411",
     "exception": false,
     "start_time": "2024-08-12T23:00:12.020568",
     "status": "completed"
    },
    "tags": []
   },
   "outputs": [],
   "source": [
    "# also drop these two \"truncated\" events series seen in EDA:\n",
    "no_NaN_series.remove('31011ade7c0a') # incomplete events data\n",
    "no_NaN_series.remove('a596ad0b82aa') # incomplete events data"
   ]
  },
  {
   "cell_type": "code",
   "execution_count": 7,
   "id": "571694f7",
   "metadata": {
    "execution": {
     "iopub.execute_input": "2024-08-12T23:00:12.047627Z",
     "iopub.status.busy": "2024-08-12T23:00:12.046742Z",
     "iopub.status.idle": "2024-08-12T23:00:12.054290Z",
     "shell.execute_reply": "2024-08-12T23:00:12.053238Z"
    },
    "papermill": {
     "duration": 0.016692,
     "end_time": "2024-08-12T23:00:12.056721",
     "exception": false,
     "start_time": "2024-08-12T23:00:12.040029",
     "status": "completed"
    },
    "tags": []
   },
   "outputs": [],
   "source": [
    "import polars as pl\n",
    "\n",
    "def get_train_series_polars(series):\n",
    "    # Load the train series data using Polars\n",
    "    train_series = pl.read_parquet(\"/kaggle/input/child-mind-institute-detect-sleep-states/train_series.parquet\")\n",
    "    \n",
    "    # Filter the DataFrame for the specified series_id\n",
    "    train_series = train_series.filter(pl.col('series_id') == series)\n",
    "    \n",
    "    # Convert the 'timestamp' column to datetime format with timezone handling\n",
    "    train_series = train_series.with_columns(\n",
    "        pl.col(\"timestamp\").str.strptime(pl.Datetime, format='%Y-%m-%dT%H:%M:%S%z').alias(\"timestamp\")\n",
    "    )\n",
    "    \n",
    "    # Extract the date from the 'timestamp' column\n",
    "    train_series = train_series.with_columns(\n",
    "        pl.col(\"timestamp\").dt.date().alias(\"date\")\n",
    "    )\n",
    "    \n",
    "    # Convert the Polars DataFrame to a Pandas DataFrame\n",
    "    train_series = train_series.to_pandas()\n",
    "\n",
    "    return train_series"
   ]
  },
  {
   "cell_type": "code",
   "execution_count": 8,
   "id": "9dad6aed",
   "metadata": {
    "execution": {
     "iopub.execute_input": "2024-08-12T23:00:12.070080Z",
     "iopub.status.busy": "2024-08-12T23:00:12.069297Z",
     "iopub.status.idle": "2024-08-12T23:05:01.576904Z",
     "shell.execute_reply": "2024-08-12T23:05:01.575886Z"
    },
    "papermill": {
     "duration": 289.517245,
     "end_time": "2024-08-12T23:05:01.579664",
     "exception": false,
     "start_time": "2024-08-12T23:00:12.062419",
     "status": "completed"
    },
    "tags": []
   },
   "outputs": [],
   "source": [
    "smaller_train_data = []\n",
    "\n",
    "for series_id in no_NaN_series:\n",
    "    train = get_train_series_polars(series_id)\n",
    "    smaller_train_data.append(train)\n",
    "    del train\n",
    "    gc.collect();"
   ]
  },
  {
   "cell_type": "code",
   "execution_count": 9,
   "id": "7e8dcb56",
   "metadata": {
    "execution": {
     "iopub.execute_input": "2024-08-12T23:05:01.593409Z",
     "iopub.status.busy": "2024-08-12T23:05:01.592958Z",
     "iopub.status.idle": "2024-08-12T23:05:03.596401Z",
     "shell.execute_reply": "2024-08-12T23:05:03.595275Z"
    },
    "papermill": {
     "duration": 2.012834,
     "end_time": "2024-08-12T23:05:03.598877",
     "exception": false,
     "start_time": "2024-08-12T23:05:01.586043",
     "status": "completed"
    },
    "tags": []
   },
   "outputs": [
    {
     "data": {
      "text/plain": [
       "35"
      ]
     },
     "execution_count": 9,
     "metadata": {},
     "output_type": "execute_result"
    }
   ],
   "source": [
    "all_train = pd.concat(smaller_train_data).reset_index(drop=True)\n",
    "all_train[\"series_id\"].nunique()"
   ]
  },
  {
   "cell_type": "code",
   "execution_count": 10,
   "id": "e50f81e4",
   "metadata": {
    "execution": {
     "iopub.execute_input": "2024-08-12T23:05:03.612270Z",
     "iopub.status.busy": "2024-08-12T23:05:03.611364Z",
     "iopub.status.idle": "2024-08-12T23:05:03.617960Z",
     "shell.execute_reply": "2024-08-12T23:05:03.616887Z"
    },
    "papermill": {
     "duration": 0.015846,
     "end_time": "2024-08-12T23:05:03.620168",
     "exception": false,
     "start_time": "2024-08-12T23:05:03.604322",
     "status": "completed"
    },
    "tags": []
   },
   "outputs": [],
   "source": [
    "def extract_full_day_data(df):\n",
    "    # Count the number of steps for each series_id and date\n",
    "    steps_per_day = df.groupby(['series_id', 'date'], as_index=False)['step'].count()\n",
    "    \n",
    "    # Filter to keep only the series_id and date combinations with 17280 steps\n",
    "    valid_days = steps_per_day[steps_per_day['step'] == 17280]\n",
    "\n",
    "    # Merge the original DataFrame with the valid_days to filter the rows\n",
    "    filtered_df = pd.merge(df, valid_days[['series_id', 'date']], on=['series_id', 'date'], how='inner')\n",
    "    \n",
    "    return filtered_df"
   ]
  },
  {
   "cell_type": "code",
   "execution_count": 11,
   "id": "cdcc2880",
   "metadata": {
    "execution": {
     "iopub.execute_input": "2024-08-12T23:05:03.633730Z",
     "iopub.status.busy": "2024-08-12T23:05:03.632794Z",
     "iopub.status.idle": "2024-08-12T23:05:11.834783Z",
     "shell.execute_reply": "2024-08-12T23:05:11.829773Z"
    },
    "papermill": {
     "duration": 8.221893,
     "end_time": "2024-08-12T23:05:11.847704",
     "exception": false,
     "start_time": "2024-08-12T23:05:03.625811",
     "status": "completed"
    },
    "tags": []
   },
   "outputs": [],
   "source": [
    "all_data = extract_full_day_data(all_train)"
   ]
  },
  {
   "cell_type": "code",
   "execution_count": 12,
   "id": "d6eafce2",
   "metadata": {
    "execution": {
     "iopub.execute_input": "2024-08-12T23:05:11.897976Z",
     "iopub.status.busy": "2024-08-12T23:05:11.895989Z",
     "iopub.status.idle": "2024-08-12T23:06:46.116409Z",
     "shell.execute_reply": "2024-08-12T23:06:46.115186Z"
    },
    "papermill": {
     "duration": 94.249032,
     "end_time": "2024-08-12T23:06:46.120536",
     "exception": false,
     "start_time": "2024-08-12T23:05:11.871504",
     "status": "completed"
    },
    "tags": []
   },
   "outputs": [
    {
     "data": {
      "application/vnd.jupyter.widget-view+json": {
       "model_id": "a01cb80bee244ec78ba82a2f97298d11",
       "version_major": 2,
       "version_minor": 0
      },
      "text/plain": [
       "  0%|          | 0/35 [00:00<?, ?it/s]"
      ]
     },
     "metadata": {},
     "output_type": "display_data"
    },
    {
     "name": "stdout",
     "output_type": "stream",
     "text": [
      "No match found for start timestamp: 2018-05-17T21:11:00-0400 or end timestamp: 2018-05-18T06:25:00-0400\n",
      "No match found for start timestamp: 2018-04-05T23:03:00-0400 or end timestamp: 2018-04-06T08:42:00-0400\n",
      "No match found for start timestamp: 2017-09-29T22:46:00-0400 or end timestamp: 2017-09-30T05:31:00-0400\n",
      "No match found for start timestamp: 2018-01-20T00:07:00-0500 or end timestamp: 2018-01-20T08:04:00-0500\n",
      "No match found for start timestamp: 2019-06-26T23:22:00-0400 or end timestamp: 2019-06-27T06:36:00-0400\n",
      "No match found for start timestamp: 2019-02-09T22:00:00-0500 or end timestamp: 2019-02-10T03:28:00-0500\n",
      "No match found for start timestamp: 2018-02-27T01:00:00-0500 or end timestamp: 2018-02-27T09:06:00-0500\n",
      "No match found for start timestamp: 2019-02-20T21:35:00-0500 or end timestamp: 2019-02-21T01:56:00-0500\n",
      "No match found for start timestamp: 2017-12-10T01:03:00-0500 or end timestamp: 2017-12-10T06:33:00-0500\n",
      "No match found for start timestamp: 2017-11-27T21:37:00-0500 or end timestamp: 2017-11-28T06:52:00-0500\n",
      "No match found for start timestamp: 2017-12-08T00:39:00-0500 or end timestamp: 2017-12-08T07:06:00-0500\n",
      "No match found for start timestamp: 2018-09-13T21:51:00-0400 or end timestamp: 2018-09-14T06:44:00-0400\n",
      "No match found for start timestamp: 2018-02-10T00:35:00-0500 or end timestamp: 2018-02-10T07:00:00-0500\n",
      "No match found for start timestamp: 2018-01-11T00:46:00-0500 or end timestamp: 2018-01-11T07:25:00-0500\n",
      "No match found for start timestamp: 2017-10-13T22:30:00-0400 or end timestamp: 2017-10-14T08:53:00-0400\n",
      "No match found for start timestamp: 2018-02-28T21:22:00-0500 or end timestamp: 2018-03-01T06:37:00-0500\n",
      "No match found for start timestamp: 2019-07-04T21:58:00-0400 or end timestamp: 2019-07-05T05:33:00-0400\n",
      "No match found for start timestamp: 2018-11-13T21:37:00-0500 or end timestamp: 2018-11-14T08:40:00-0500\n",
      "No match found for start timestamp: 2017-11-04T03:46:00-0400 or end timestamp: 2017-11-04T09:23:00-0400\n",
      "No match found for start timestamp: 2017-12-31T00:04:00-0500 or end timestamp: 2017-12-31T09:12:00-0500\n",
      "No match found for start timestamp: 2017-12-17T21:45:00-0500 or end timestamp: 2017-12-18T07:07:00-0500\n",
      "No match found for start timestamp: 2018-09-19T21:37:00-0400 or end timestamp: 2018-09-20T06:11:00-0400\n",
      "No match found for start timestamp: 2017-12-01T22:48:00-0500 or end timestamp: 2017-12-02T07:48:00-0500\n"
     ]
    }
   ],
   "source": [
    "from tqdm.auto import tqdm \n",
    "targets = []\n",
    "data = []\n",
    "ids = all_data.series_id.unique()\n",
    "\n",
    "for viz_id in tqdm(ids):\n",
    "    viz_targets = []\n",
    "    viz_events = train_events[train_events.series_id == viz_id]\n",
    "    viz_series = all_data.loc[(all_data.series_id == viz_id)].copy().reset_index()\n",
    "    viz_series['dt'] = pd.to_datetime(viz_series.timestamp, format='%Y-%m-%dT%H:%M:%S%z').astype(\"datetime64[ns, UTC-04:00]\")\n",
    "\n",
    "    for i in range(len(viz_events) - 1):\n",
    "        if viz_events.iloc[i].event == 'onset' and viz_events.iloc[i + 1].event == 'wakeup' and viz_events.iloc[i].night == viz_events.iloc[i + 1].night:\n",
    "            start, end = viz_events.timestamp.iloc[i], viz_events.timestamp.iloc[i + 1]\n",
    "\n",
    "            matching_start_rows = viz_series.loc[viz_series.timestamp == start]\n",
    "            matching_end_rows = viz_series.loc[viz_series.timestamp == end]\n",
    "            \n",
    "            if not matching_start_rows.empty and not matching_end_rows.empty:\n",
    "                start_id = matching_start_rows.index.values[0]\n",
    "                end_id = matching_end_rows.index.values[0]\n",
    "                viz_targets.append((start_id, end_id))\n",
    "            else:\n",
    "                print(f\"No match found for start timestamp: {start} or end timestamp: {end}\")\n",
    "                continue  # Skip this iteration if no match is found\n",
    "    \n",
    "    targets.append(viz_targets)\n",
    "    data.append(viz_series[['anglez', 'enmo', 'step']])"
   ]
  },
  {
   "cell_type": "code",
   "execution_count": 13,
   "id": "88dfe3df",
   "metadata": {
    "execution": {
     "iopub.execute_input": "2024-08-12T23:06:46.138654Z",
     "iopub.status.busy": "2024-08-12T23:06:46.138001Z",
     "iopub.status.idle": "2024-08-12T23:06:46.655047Z",
     "shell.execute_reply": "2024-08-12T23:06:46.653910Z"
    },
    "papermill": {
     "duration": 0.528818,
     "end_time": "2024-08-12T23:06:46.657443",
     "exception": false,
     "start_time": "2024-08-12T23:06:46.128625",
     "status": "completed"
    },
    "tags": []
   },
   "outputs": [
    {
     "data": {
      "text/plain": [
       "35"
      ]
     },
     "execution_count": 13,
     "metadata": {},
     "output_type": "execute_result"
    }
   ],
   "source": [
    "import joblib\n",
    "joblib.dump((targets, data, ids), 'train_data.pkl')\n",
    "len(data)"
   ]
  }
 ],
 "metadata": {
  "kaggle": {
   "accelerator": "none",
   "dataSources": [
    {
     "databundleVersionId": 6589269,
     "sourceId": 53666,
     "sourceType": "competition"
    }
   ],
   "dockerImageVersionId": 30746,
   "isGpuEnabled": false,
   "isInternetEnabled": true,
   "language": "python",
   "sourceType": "notebook"
  },
  "kernelspec": {
   "display_name": "Python 3",
   "language": "python",
   "name": "python3"
  },
  "language_info": {
   "codemirror_mode": {
    "name": "ipython",
    "version": 3
   },
   "file_extension": ".py",
   "mimetype": "text/x-python",
   "name": "python",
   "nbconvert_exporter": "python",
   "pygments_lexer": "ipython3",
   "version": "3.10.13"
  },
  "papermill": {
   "default_parameters": {},
   "duration": 401.276569,
   "end_time": "2024-08-12T23:06:49.070108",
   "environment_variables": {},
   "exception": null,
   "input_path": "__notebook__.ipynb",
   "output_path": "__notebook__.ipynb",
   "parameters": {},
   "start_time": "2024-08-12T23:00:07.793539",
   "version": "2.5.0"
  },
  "widgets": {
   "application/vnd.jupyter.widget-state+json": {
    "state": {
     "2f0dd5c1fdd848e084b60a19e46ef837": {
      "model_module": "@jupyter-widgets/controls",
      "model_module_version": "1.5.0",
      "model_name": "DescriptionStyleModel",
      "state": {
       "_model_module": "@jupyter-widgets/controls",
       "_model_module_version": "1.5.0",
       "_model_name": "DescriptionStyleModel",
       "_view_count": null,
       "_view_module": "@jupyter-widgets/base",
       "_view_module_version": "1.2.0",
       "_view_name": "StyleView",
       "description_width": ""
      }
     },
     "38c94e7f604f4b1590d26e34b2cbc071": {
      "model_module": "@jupyter-widgets/base",
      "model_module_version": "1.2.0",
      "model_name": "LayoutModel",
      "state": {
       "_model_module": "@jupyter-widgets/base",
       "_model_module_version": "1.2.0",
       "_model_name": "LayoutModel",
       "_view_count": null,
       "_view_module": "@jupyter-widgets/base",
       "_view_module_version": "1.2.0",
       "_view_name": "LayoutView",
       "align_content": null,
       "align_items": null,
       "align_self": null,
       "border": null,
       "bottom": null,
       "display": null,
       "flex": null,
       "flex_flow": null,
       "grid_area": null,
       "grid_auto_columns": null,
       "grid_auto_flow": null,
       "grid_auto_rows": null,
       "grid_column": null,
       "grid_gap": null,
       "grid_row": null,
       "grid_template_areas": null,
       "grid_template_columns": null,
       "grid_template_rows": null,
       "height": null,
       "justify_content": null,
       "justify_items": null,
       "left": null,
       "margin": null,
       "max_height": null,
       "max_width": null,
       "min_height": null,
       "min_width": null,
       "object_fit": null,
       "object_position": null,
       "order": null,
       "overflow": null,
       "overflow_x": null,
       "overflow_y": null,
       "padding": null,
       "right": null,
       "top": null,
       "visibility": null,
       "width": null
      }
     },
     "4324b21f721e462a8e7be19632bdc83a": {
      "model_module": "@jupyter-widgets/base",
      "model_module_version": "1.2.0",
      "model_name": "LayoutModel",
      "state": {
       "_model_module": "@jupyter-widgets/base",
       "_model_module_version": "1.2.0",
       "_model_name": "LayoutModel",
       "_view_count": null,
       "_view_module": "@jupyter-widgets/base",
       "_view_module_version": "1.2.0",
       "_view_name": "LayoutView",
       "align_content": null,
       "align_items": null,
       "align_self": null,
       "border": null,
       "bottom": null,
       "display": null,
       "flex": null,
       "flex_flow": null,
       "grid_area": null,
       "grid_auto_columns": null,
       "grid_auto_flow": null,
       "grid_auto_rows": null,
       "grid_column": null,
       "grid_gap": null,
       "grid_row": null,
       "grid_template_areas": null,
       "grid_template_columns": null,
       "grid_template_rows": null,
       "height": null,
       "justify_content": null,
       "justify_items": null,
       "left": null,
       "margin": null,
       "max_height": null,
       "max_width": null,
       "min_height": null,
       "min_width": null,
       "object_fit": null,
       "object_position": null,
       "order": null,
       "overflow": null,
       "overflow_x": null,
       "overflow_y": null,
       "padding": null,
       "right": null,
       "top": null,
       "visibility": null,
       "width": null
      }
     },
     "443c1fdf302041acad7dbab48a9ee3b6": {
      "model_module": "@jupyter-widgets/base",
      "model_module_version": "1.2.0",
      "model_name": "LayoutModel",
      "state": {
       "_model_module": "@jupyter-widgets/base",
       "_model_module_version": "1.2.0",
       "_model_name": "LayoutModel",
       "_view_count": null,
       "_view_module": "@jupyter-widgets/base",
       "_view_module_version": "1.2.0",
       "_view_name": "LayoutView",
       "align_content": null,
       "align_items": null,
       "align_self": null,
       "border": null,
       "bottom": null,
       "display": null,
       "flex": null,
       "flex_flow": null,
       "grid_area": null,
       "grid_auto_columns": null,
       "grid_auto_flow": null,
       "grid_auto_rows": null,
       "grid_column": null,
       "grid_gap": null,
       "grid_row": null,
       "grid_template_areas": null,
       "grid_template_columns": null,
       "grid_template_rows": null,
       "height": null,
       "justify_content": null,
       "justify_items": null,
       "left": null,
       "margin": null,
       "max_height": null,
       "max_width": null,
       "min_height": null,
       "min_width": null,
       "object_fit": null,
       "object_position": null,
       "order": null,
       "overflow": null,
       "overflow_x": null,
       "overflow_y": null,
       "padding": null,
       "right": null,
       "top": null,
       "visibility": null,
       "width": null
      }
     },
     "4a97de4f0b6544f794f4f484c7c870d4": {
      "model_module": "@jupyter-widgets/controls",
      "model_module_version": "1.5.0",
      "model_name": "DescriptionStyleModel",
      "state": {
       "_model_module": "@jupyter-widgets/controls",
       "_model_module_version": "1.5.0",
       "_model_name": "DescriptionStyleModel",
       "_view_count": null,
       "_view_module": "@jupyter-widgets/base",
       "_view_module_version": "1.2.0",
       "_view_name": "StyleView",
       "description_width": ""
      }
     },
     "670c9eb7c3f0462f9ebc04d1bae26a83": {
      "model_module": "@jupyter-widgets/controls",
      "model_module_version": "1.5.0",
      "model_name": "ProgressStyleModel",
      "state": {
       "_model_module": "@jupyter-widgets/controls",
       "_model_module_version": "1.5.0",
       "_model_name": "ProgressStyleModel",
       "_view_count": null,
       "_view_module": "@jupyter-widgets/base",
       "_view_module_version": "1.2.0",
       "_view_name": "StyleView",
       "bar_color": null,
       "description_width": ""
      }
     },
     "792233274797448bb7b4384a4f120dcb": {
      "model_module": "@jupyter-widgets/controls",
      "model_module_version": "1.5.0",
      "model_name": "HTMLModel",
      "state": {
       "_dom_classes": [],
       "_model_module": "@jupyter-widgets/controls",
       "_model_module_version": "1.5.0",
       "_model_name": "HTMLModel",
       "_view_count": null,
       "_view_module": "@jupyter-widgets/controls",
       "_view_module_version": "1.5.0",
       "_view_name": "HTMLView",
       "description": "",
       "description_tooltip": null,
       "layout": "IPY_MODEL_89119c2f5ccf4544a2da1268a5fc333c",
       "placeholder": "​",
       "style": "IPY_MODEL_4a97de4f0b6544f794f4f484c7c870d4",
       "value": " 35/35 [01:32&lt;00:00,  2.59s/it]"
      }
     },
     "89119c2f5ccf4544a2da1268a5fc333c": {
      "model_module": "@jupyter-widgets/base",
      "model_module_version": "1.2.0",
      "model_name": "LayoutModel",
      "state": {
       "_model_module": "@jupyter-widgets/base",
       "_model_module_version": "1.2.0",
       "_model_name": "LayoutModel",
       "_view_count": null,
       "_view_module": "@jupyter-widgets/base",
       "_view_module_version": "1.2.0",
       "_view_name": "LayoutView",
       "align_content": null,
       "align_items": null,
       "align_self": null,
       "border": null,
       "bottom": null,
       "display": null,
       "flex": null,
       "flex_flow": null,
       "grid_area": null,
       "grid_auto_columns": null,
       "grid_auto_flow": null,
       "grid_auto_rows": null,
       "grid_column": null,
       "grid_gap": null,
       "grid_row": null,
       "grid_template_areas": null,
       "grid_template_columns": null,
       "grid_template_rows": null,
       "height": null,
       "justify_content": null,
       "justify_items": null,
       "left": null,
       "margin": null,
       "max_height": null,
       "max_width": null,
       "min_height": null,
       "min_width": null,
       "object_fit": null,
       "object_position": null,
       "order": null,
       "overflow": null,
       "overflow_x": null,
       "overflow_y": null,
       "padding": null,
       "right": null,
       "top": null,
       "visibility": null,
       "width": null
      }
     },
     "89bac45abcf4488f96a160e1336e1014": {
      "model_module": "@jupyter-widgets/controls",
      "model_module_version": "1.5.0",
      "model_name": "HTMLModel",
      "state": {
       "_dom_classes": [],
       "_model_module": "@jupyter-widgets/controls",
       "_model_module_version": "1.5.0",
       "_model_name": "HTMLModel",
       "_view_count": null,
       "_view_module": "@jupyter-widgets/controls",
       "_view_module_version": "1.5.0",
       "_view_name": "HTMLView",
       "description": "",
       "description_tooltip": null,
       "layout": "IPY_MODEL_38c94e7f604f4b1590d26e34b2cbc071",
       "placeholder": "​",
       "style": "IPY_MODEL_2f0dd5c1fdd848e084b60a19e46ef837",
       "value": "100%"
      }
     },
     "8be6ff4e23fa4e3fbb1e391c63aceb71": {
      "model_module": "@jupyter-widgets/controls",
      "model_module_version": "1.5.0",
      "model_name": "FloatProgressModel",
      "state": {
       "_dom_classes": [],
       "_model_module": "@jupyter-widgets/controls",
       "_model_module_version": "1.5.0",
       "_model_name": "FloatProgressModel",
       "_view_count": null,
       "_view_module": "@jupyter-widgets/controls",
       "_view_module_version": "1.5.0",
       "_view_name": "ProgressView",
       "bar_style": "success",
       "description": "",
       "description_tooltip": null,
       "layout": "IPY_MODEL_443c1fdf302041acad7dbab48a9ee3b6",
       "max": 35.0,
       "min": 0.0,
       "orientation": "horizontal",
       "style": "IPY_MODEL_670c9eb7c3f0462f9ebc04d1bae26a83",
       "value": 35.0
      }
     },
     "a01cb80bee244ec78ba82a2f97298d11": {
      "model_module": "@jupyter-widgets/controls",
      "model_module_version": "1.5.0",
      "model_name": "HBoxModel",
      "state": {
       "_dom_classes": [],
       "_model_module": "@jupyter-widgets/controls",
       "_model_module_version": "1.5.0",
       "_model_name": "HBoxModel",
       "_view_count": null,
       "_view_module": "@jupyter-widgets/controls",
       "_view_module_version": "1.5.0",
       "_view_name": "HBoxView",
       "box_style": "",
       "children": [
        "IPY_MODEL_89bac45abcf4488f96a160e1336e1014",
        "IPY_MODEL_8be6ff4e23fa4e3fbb1e391c63aceb71",
        "IPY_MODEL_792233274797448bb7b4384a4f120dcb"
       ],
       "layout": "IPY_MODEL_4324b21f721e462a8e7be19632bdc83a"
      }
     }
    },
    "version_major": 2,
    "version_minor": 0
   }
  }
 },
 "nbformat": 4,
 "nbformat_minor": 5
}
